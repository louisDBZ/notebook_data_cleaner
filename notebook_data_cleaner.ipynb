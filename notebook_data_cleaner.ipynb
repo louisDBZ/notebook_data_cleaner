{
 "cells": [
  {
   "cell_type": "markdown",
   "id": "1aec4207",
   "metadata": {},
   "source": [
    "# Notebook data cleaner"
   ]
  },
  {
   "cell_type": "code",
   "execution_count": 1,
   "id": "85e7feae",
   "metadata": {},
   "outputs": [],
   "source": [
    "### import\n",
    "\n",
    "import json"
   ]
  },
  {
   "cell_type": "code",
   "execution_count": 2,
   "id": "bef99a52",
   "metadata": {},
   "outputs": [],
   "source": [
    "### notebook file path to modify\n",
    "\n",
    "io_file=\"Kindle_note_caster.ipynb\"\n"
   ]
  },
  {
   "cell_type": "code",
   "execution_count": 3,
   "id": "b640ee7a",
   "metadata": {},
   "outputs": [],
   "source": [
    "### script\n",
    "\n",
    "with open(io_file,mode='r',encoding=\"utf-8\") as mon_fichier:\n",
    "    data = json.load(mon_fichier)\n",
    "    \n",
    "    for cell in data['cells']:\n",
    "        if ((cell['cell_type']=='code') and (cell['outputs']!=[])):\n",
    "            cell['outputs']=[]"
   ]
  },
  {
   "cell_type": "code",
   "execution_count": 4,
   "id": "018edab8",
   "metadata": {},
   "outputs": [],
   "source": [
    "with open(io_file,'w') as mon_fichier:\n",
    "    mon_fichier.write(json.dumps(data, indent=4, sort_keys=True))"
   ]
  },
  {
   "cell_type": "code",
   "execution_count": null,
   "id": "fa62cdd2",
   "metadata": {},
   "outputs": [],
   "source": []
  }
 ],
 "metadata": {
  "kernelspec": {
   "display_name": "Python 3",
   "language": "python",
   "name": "python3"
  },
  "language_info": {
   "codemirror_mode": {
    "name": "ipython",
    "version": 3
   },
   "file_extension": ".py",
   "mimetype": "text/x-python",
   "name": "python",
   "nbconvert_exporter": "python",
   "pygments_lexer": "ipython3",
   "version": "3.8.8"
  }
 },
 "nbformat": 4,
 "nbformat_minor": 5
}
